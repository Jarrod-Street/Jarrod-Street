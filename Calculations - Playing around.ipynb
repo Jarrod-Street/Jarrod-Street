{
  "nbformat": 4,
  "nbformat_minor": 0,
  "metadata": {
    "colab": {
      "provenance": [],
      "authorship_tag": "ABX9TyO0pGtNlhU3phpIFmOyFtSq",
      "include_colab_link": true
    },
    "kernelspec": {
      "name": "python3",
      "display_name": "Python 3"
    },
    "language_info": {
      "name": "python"
    }
  },
  "cells": [
    {
      "cell_type": "markdown",
      "metadata": {
        "id": "view-in-github",
        "colab_type": "text"
      },
      "source": [
        "<a href=\"https://colab.research.google.com/github/Jarrod-Street/Jarrod-Street/blob/main/Calculations%20-%20Playing%20around.ipynb\" target=\"_parent\"><img src=\"https://colab.research.google.com/assets/colab-badge.svg\" alt=\"Open In Colab\"/></a>"
      ]
    },
    {
      "cell_type": "code",
      "execution_count": 8,
      "metadata": {
        "colab": {
          "base_uri": "https://localhost:8080/"
        },
        "id": "qqP5-z-G5JQU",
        "outputId": "9563e188-20e0-419a-e240-f186882fc2ba"
      },
      "outputs": [
        {
          "output_type": "stream",
          "name": "stdout",
          "text": [
            "This is how much 12 footballs cost\n",
            "Total cost: $150.0\n"
          ]
        }
      ],
      "source": [
        "print(\"This is how much 12 footballs cost\")\n",
        "\n",
        "number_of_footballs = 12\n",
        "price_per_football = 12.50\n",
        "total_cost = number_of_footballs * price_per_football\n",
        "\n",
        "print(f\"Total cost: ${total_cost}\")"
      ]
    },
    {
      "cell_type": "code",
      "source": [
        "print(\"Tottenham are shit\")\n",
        "Draw = 1\n",
        "Loss = 0\n",
        "Win = 3\n",
        "Games_played = 38\n",
        "total = (Loss + Win+ Draw)\n",
        "\n",
        "print(f\"total = {Loss * 16, Won * 8, Draw * 14}\")\n",
        "\n",
        "\n",
        "total_points = (Loss * 16) + (Won * 8) + (Draw * 14)\n",
        "\n",
        "\n",
        "print(f\"Combined total: {total_points} points out of possible 114\")"
      ],
      "metadata": {
        "colab": {
          "base_uri": "https://localhost:8080/"
        },
        "id": "8XrqEh1Y7nu9",
        "outputId": "8cb92abe-b3fd-428f-8c6b-c4762a0b0854"
      },
      "execution_count": 20,
      "outputs": [
        {
          "output_type": "stream",
          "name": "stdout",
          "text": [
            "Tottenham are shit\n",
            "total = (0, 24, 14)\n",
            "Combined total: 38 points out of possible 114\n"
          ]
        }
      ]
    }
  ]
}