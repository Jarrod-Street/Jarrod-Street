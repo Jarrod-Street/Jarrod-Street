{
  "nbformat": 4,
  "nbformat_minor": 0,
  "metadata": {
    "colab": {
      "provenance": [],
      "authorship_tag": "ABX9TyPmVLHii3nNcOLWca/RbOYK",
      "include_colab_link": true
    },
    "kernelspec": {
      "name": "python3",
      "display_name": "Python 3"
    },
    "language_info": {
      "name": "python"
    }
  },
  "cells": [
    {
      "cell_type": "markdown",
      "metadata": {
        "id": "view-in-github",
        "colab_type": "text"
      },
      "source": [
        "<a href=\"https://colab.research.google.com/github/Jarrod-Street/Jarrod-Street/blob/main/Arsenal_Result_Predictive_Model.ipynb\" target=\"_parent\"><img src=\"https://colab.research.google.com/assets/colab-badge.svg\" alt=\"Open In Colab\"/></a>"
      ]
    },
    {
      "cell_type": "code",
      "execution_count": 1,
      "metadata": {
        "id": "zmOZNnaIyXBf"
      },
      "outputs": [],
      "source": [
        "# Arsenal's last 5 results (D, W, L, W, W)\n",
        "# D = Draw (0), W = Win (1), L = Loss (-1)\n",
        "\n",
        "arsenal_form = [0, 1, -1, 1, 1]"
      ]
    },
    {
      "cell_type": "code",
      "source": [
        "import numpy as np\n",
        "\n",
        "# Your data\n",
        "arsenal_form = np.array([0, 1, -1, 1, 1])\n",
        "\n",
        "# Calculate the average form score\n",
        "average_score = np.mean(arsenal_form)\n",
        "\n",
        "if average_score > 0:\n",
        "    print(\"Based on their recent form, Arsenal is likely to get a positive result (Win or Draw).\")\n",
        "elif average_score < 0:\n",
        "    print(\"Based on their recent form, Arsenal is likely to get a negative result (Loss).\")\n",
        "else:\n",
        "    print(\"The team's recent form is inconsistent, so the next result is hard to predict.\")\n",
        ""
      ],
      "metadata": {
        "colab": {
          "base_uri": "https://localhost:8080/"
        },
        "id": "h3HN8Zs8yaSP",
        "outputId": "3e22bae7-a1da-4c69-d1b1-3eb383e60dde"
      },
      "execution_count": 2,
      "outputs": [
        {
          "output_type": "stream",
          "name": "stdout",
          "text": [
            "Based on their recent form, Arsenal is likely to get a positive result (Win or Draw).\n"
          ]
        }
      ]
    }
  ]
}